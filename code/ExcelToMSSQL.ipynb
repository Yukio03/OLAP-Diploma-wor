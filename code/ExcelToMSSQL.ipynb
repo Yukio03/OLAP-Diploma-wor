{
 "cells": [
  {
   "cell_type": "code",
   "execution_count": null,
   "id": "c5421015",
   "metadata": {},
   "outputs": [],
   "source": [
    "!pip install pyodbc\n",
    "!pip install sqlalchemy"
   ]
  },
  {
   "cell_type": "code",
   "execution_count": null,
   "id": "693719ec",
   "metadata": {},
   "outputs": [],
   "source": [
    "import pyodbc\n",
    "import sqlalchemy\n",
    "import pandas as pd\n",
    "import urllib\n",
    "from datetime import datetime as dt\n",
    "\n",
    "# импорт библиотек"
   ]
  },
  {
   "cell_type": "code",
   "execution_count": null,
   "id": "d696822b",
   "metadata": {},
   "outputs": [],
   "source": [
    "class Sql:\n",
    "    def __init__(self, database, server=\"DESKTOP-ES2QHD6\"):\n",
    "        self.cnxn = pyodbc.connect(\"Driver={SQL Server Native Client 11.0};\"\n",
    "                                   \"Server=\"+server+\";\"\n",
    "                                   \"Database=\"+database+\";\"\n",
    "                                   \"Trusted_Connection=yes;\")\n",
    "        self.conn = \"-- {} -- successfully\".format(datetime.now()\n",
    "                                                         .strftime(\"%d/%m/%Y\"))\n",
    "    def query(self, req):\n",
    "        cursor = sql.cnxn.execute(req)\n",
    "        row = cursor.fetchone() \n",
    "        while row: \n",
    "            print(row[0])\n",
    "            row = cursor.fetchone()\n",
    "            \n",
    "# создание класса для подключения к бд\n",
    "# и совершения запросов к ней"
   ]
  },
  {
   "cell_type": "code",
   "execution_count": null,
   "id": "75d23755",
   "metadata": {},
   "outputs": [],
   "source": [
    "sql = Sql(\"BasisProDW\")\n",
    "sql.conn"
   ]
  },
  {
   "cell_type": "code",
   "execution_count": null,
   "id": "c7fa8a4e",
   "metadata": {},
   "outputs": [],
   "source": [
    "sql.query(\"SELECT TABLE_NAME FROM [BasisProDW].INFORMATION_SCHEMA.TABLES WHERE TABLE_TYPE = 'BASE TABLE'\")"
   ]
  },
  {
   "cell_type": "code",
   "execution_count": null,
   "id": "d8d2080a",
   "metadata": {},
   "outputs": [],
   "source": [
    "df_employee = pd.read_excel('C:/Users/raspa/Desktop/data.xlsx', sheet_name='employee')\n",
    "df_customer = pd.read_excel('C:/Users/raspa/Desktop/data.xlsx', sheet_name='customer')\n",
    "df_product = pd.read_excel('C:/Users/raspa/Desktop/data.xlsx', sheet_name='product')\n",
    "df_order = pd.read_excel('C:/Users/raspa/Desktop/data.xlsx', sheet_name='order')\n",
    "\n",
    "# загрузка данных из excel файлов"
   ]
  },
  {
   "cell_type": "code",
   "execution_count": null,
   "id": "5f7f1a59",
   "metadata": {},
   "outputs": [],
   "source": [
    "print(df_employee.isnull().sum())\n",
    "print(df_customer.isnull().sum())\n",
    "print(df_product.isnull().sum())\n",
    "print(df_order.isnull().sum())\n",
    "\n",
    "# проверка столбцов на пустые значения"
   ]
  },
  {
   "cell_type": "code",
   "execution_count": null,
   "id": "e6579230",
   "metadata": {},
   "outputs": [],
   "source": [
    "df_customer = df_customer.rename(columns = {'iscompany': 'is_company'})\n",
    "\n",
    "# исправляю ошибку в названии"
   ]
  },
  {
   "cell_type": "code",
   "execution_count": null,
   "id": "8191d7a7",
   "metadata": {},
   "outputs": [],
   "source": [
    "df_order.order_date = df_order.order_date.apply(lambda x: dt.date(x))\n",
    "df_employee.hire_date = df_employee.hire_date.apply(lambda x: dt.date(x))\n",
    "\n",
    "# перевод типов столбцов из timestamp в datetime"
   ]
  },
  {
   "cell_type": "code",
   "execution_count": null,
   "id": "e6bf66f8",
   "metadata": {},
   "outputs": [],
   "source": [
    "df_date = pd.DataFrame(columns=['id', 'the_date', 'day_of_week', 'day_of_month', 'day_of_year', 'day_name',\n",
    "                                'month_of_year', 'month_name', 'weekend', 'quarter', 'year'])\n",
    "\n",
    "# создание таблицы для дат заказов"
   ]
  },
  {
   "cell_type": "code",
   "execution_count": null,
   "id": "ebbe15ca",
   "metadata": {},
   "outputs": [],
   "source": [
    "def is_weekend(n):\n",
    "    if (int(n) == 5) or (int(n) == 6):\n",
    "        return 1\n",
    "    return 0\n",
    "\n",
    "# функция, которая проверяет является ли день субботой или воскресеньем"
   ]
  },
  {
   "cell_type": "code",
   "execution_count": null,
   "id": "bc5d0acb",
   "metadata": {},
   "outputs": [],
   "source": [
    "def cal_quarter(n):\n",
    "    if int(n) in [1, 2, 3]:\n",
    "        return 1\n",
    "    elif int(n) in [4, 5, 6]:\n",
    "        return 2\n",
    "    elif int(n) in [7, 8, 9]:\n",
    "        return 3\n",
    "    elif int(n) in [10, 11, 12]:\n",
    "        return 4\n",
    "    \n",
    "# функция, которая определяет квартал которому принадлежит дата"
   ]
  },
  {
   "cell_type": "code",
   "execution_count": null,
   "id": "531eed8b",
   "metadata": {},
   "outputs": [],
   "source": [
    "for n in range(len(df_order)):\n",
    "    s = df_order.order_date[n].strftime('%w, %d, %j, %A, %m, %B, %Y')\n",
    "    s = s.split(',')\n",
    "    weekend = is_weekend(s[0])\n",
    "    quarter = cal_quarter(s[4])\n",
    "    df_date = df_date.append({'id': n+1, 'the_date': df_order.order_date[n], 'day_of_week': int(s[0])+1, 'day_of_month': int(s[1]), \n",
    "                        'day_of_year': int(s[2]), 'day_name': s[3], 'month_of_year': int(s[4]), \n",
    "                        'month_name': s[5], 'weekend': weekend, 'quarter': quarter, 'year': int(s[6])}, ignore_index=True)\n",
    "    df_order.order_date[n] = n+1\n",
    "df_order = df_order.rename(columns = {'order_date': 'date_id'})    \n",
    "# запись данных в новый датафрейм df_date"
   ]
  },
  {
   "cell_type": "code",
   "execution_count": 249,
   "id": "8d09358a",
   "metadata": {},
   "outputs": [],
   "source": [
    "quoted = urllib.parse.quote_plus(\"DRIVER={SQL Server};SERVER=DESKTOP-ES2QHD6;DATABASE=BasisProDW\")\n",
    "engine1 = sqlalchemy.create_engine('mssql+pyodbc:///?odbc_connect={}'.format(quoted))\n"
   ]
  },
  {
   "cell_type": "code",
   "execution_count": null,
   "id": "901b19a3",
   "metadata": {},
   "outputs": [],
   "source": [
    "df_employee.to_sql(\"dim_employee\", con = engine1, if_exists='append', index=False)"
   ]
  },
  {
   "cell_type": "code",
   "execution_count": null,
   "id": "119b3d14",
   "metadata": {},
   "outputs": [],
   "source": [
    "df_product.to_sql(\"dim_product\", con = engine1, if_exists='append', index=False)"
   ]
  },
  {
   "cell_type": "code",
   "execution_count": null,
   "id": "90fba402",
   "metadata": {},
   "outputs": [],
   "source": [
    "df_customer.to_sql(\"dim_customer\", con = engine1, if_exists='append', index=False)"
   ]
  },
  {
   "cell_type": "code",
   "execution_count": null,
   "id": "872fe3b5",
   "metadata": {},
   "outputs": [],
   "source": [
    "df_order.to_sql(\"fact_sales\", con = engine1, if_exists='append', index=False)"
   ]
  },
  {
   "cell_type": "code",
   "execution_count": null,
   "id": "b0563523",
   "metadata": {},
   "outputs": [],
   "source": [
    "df_date.to_sql(\"dim_date\", con = engine1, if_exists='append', index=False)"
   ]
  },
  {
   "cell_type": "code",
   "execution_count": null,
   "id": "ce07db1c",
   "metadata": {},
   "outputs": [],
   "source": []
  }
 ],
 "metadata": {
  "kernelspec": {
   "display_name": "Python 3 (ipykernel)",
   "language": "python",
   "name": "python3"
  },
  "language_info": {
   "codemirror_mode": {
    "name": "ipython",
    "version": 3
   },
   "file_extension": ".py",
   "mimetype": "text/x-python",
   "name": "python",
   "nbconvert_exporter": "python",
   "pygments_lexer": "ipython3",
   "version": "3.9.13"
  }
 },
 "nbformat": 4,
 "nbformat_minor": 5
}
